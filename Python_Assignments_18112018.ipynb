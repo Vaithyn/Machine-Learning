{
 "cells": [
  {
   "cell_type": "code",
   "execution_count": 1,
   "metadata": {
    "scrolled": true
   },
   "outputs": [
    {
     "name": "stdout",
     "output_type": "stream",
     "text": [
      "['November 13, 2012', 'March 20, 2015', 'March 9, 2016']\n"
     ]
    }
   ],
   "source": [
    "#TODO: Select the three most recent dates from this list using list slicing notation\n",
    "\n",
    "eclipse_dates = ['June 21, 2001', 'December 4, 2002', 'November 23, 2003',\n",
    "                 'March 29, 2006', 'August 1, 2008', 'July 22, 2009',\n",
    "                 'July 11, 2010', 'November 13, 2012', 'March 20, 2015',\n",
    "                 'March 9, 2016']\n",
    "\n",
    "print(eclipse_dates[7:])"
   ]
  },
  {
   "cell_type": "code",
   "execution_count": 62,
   "metadata": {},
   "outputs": [
    {
     "name": "stdout",
     "output_type": "stream",
     "text": [
      "[1, 5, 8, 15, 150]\n",
      "List 'A' has the maximum value of 150 from all the lists\n"
     ]
    }
   ],
   "source": [
    "#*TODO: Print the list and max value from the three (name of the list which has maximum value and its value *\n",
    "# Code should work if the values are changed\n",
    "\n",
    "a = [1, 5, 8, 15, 150]\n",
    "b = [2, 6, 9, 10, 50, 75]\n",
    "c = [100, 20, 30, 18, 25 ]\n",
    "d = (a)+(b)+(c)\n",
    "e = max((a)+(b)+(c))\n",
    "\n",
    "if e in a:\n",
    "    print(a)\n",
    "    print (\"List 'A' has the maximum value of {} from all the lists\".format(e))\n",
    "elif e in b:\n",
    "    print(b)\n",
    "    print (\"List 'B' has the maximum value of {} from all the lists\".format(e))\n",
    "else:\n",
    "    print(c)\n",
    "    print (\"List 'C' has the maximum value of {} from all the lists\".format(e))"
   ]
  },
  {
   "cell_type": "code",
   "execution_count": 67,
   "metadata": {},
   "outputs": [
    {
     "name": "stdout",
     "output_type": "stream",
     "text": [
      "Carol-Albert and Ben-Donna\n"
     ]
    }
   ],
   "source": [
    "names = [\"Carol\", \"Albert\", \"Ben\", \"Donna\"]\n",
    "\n",
    "print(names[0]+\"-\"+names[1], \"and\", names[2]+\"-\"+names[3])\n",
    "\n",
    "# Expected output \n",
    "# Carol-Albert and Ben-Donna"
   ]
  },
  {
   "cell_type": "code",
   "execution_count": 14,
   "metadata": {
    "scrolled": true
   },
   "outputs": [
    {
     "name": "stdout",
     "output_type": "stream",
     "text": [
      "The numbers present in list 1 are [1, 2, 6, 3, 1, 1, 9] and missing in list 2 are {9}\n",
      "The numbers present in list 2 are [2, 5, 8, 7, 3, 1, 6] and missing in list 1 are {5, 7, 8}\n",
      "The common numbers from both the lists are {1, 2, 3, 6}\n"
     ]
    }
   ],
   "source": [
    "#*TODO: Print the numbers present in 1 and missing in 2 and viceversa *\n",
    "#** Also the common numbers **\n",
    "numbers_1 = [1, 2, 6, 3, 1, 1, 9]\n",
    "numbers_2 = [2, 5, 8, 7, 3, 1, 6]\n",
    "\n",
    "common_num = (set(numbers_1).intersection(numbers_2))\n",
    "diff_1 = (set(numbers_1).difference(numbers_2))\n",
    "diff_2 = (set(numbers_2).difference(numbers_1))\n",
    "\n",
    "print(\"The numbers present in list 1 are {} and missing in list 2 are {}\" .format(numbers_1, diff_1))\n",
    "print(\"The numbers present in list 2 are {} and missing in list 1 are {}\" .format(numbers_2, diff_2))\n",
    "print(\"The common numbers from both the lists are {}\" .format(common_num))\n"
   ]
  },
  {
   "cell_type": "code",
   "execution_count": 1,
   "metadata": {},
   "outputs": [
    {
     "name": "stdout",
     "output_type": "stream",
     "text": [
      "Please enter your state, CA or MN or NY: CA\n",
      "Please enter the purchase amount in numbers: 12\n",
      "The total purchase amount with tax is $12.9\n"
     ]
    }
   ],
   "source": [
    "#The states of CA, MN and NY have taxes of 7.5%, 9.5%, and 8.9% respectively\n",
    "# Based on state and purchase amount print the tax value(Hints: Get the inputs via input command from the user) \n",
    "#tax = purchase_amount*tax_amount(Formula)\n",
    "import sys\n",
    "\n",
    "state = str(input(\"Please enter your state, CA or MN or NY: \"))\n",
    "state = state.upper()\n",
    "\n",
    "if not state == \"CA\":\n",
    "    if not state == \"MN\":\n",
    "        if not state == \"NY\":\n",
    "            print(\"Your input is incorrect, please try again!\")\n",
    "            exit()\n",
    "\n",
    "purchase_amount = int(input(\"Please enter the purchase amount in numbers: \"))\n",
    "\n",
    "amount_CA = (purchase_amount*(7.5/100) + purchase_amount)\n",
    "amount_MN = (purchase_amount*(9.5/100) + purchase_amount)\n",
    "amount_NY = (purchase_amount*(8.9/100) + purchase_amount)\n",
    "\n",
    "if state == \"CA\":\n",
    "    print(\"The total purchase amount with tax is ${}\".format(amount_CA))\n",
    "elif state == \"MN\":\n",
    "    print(\"The total purchase amount with tax is ${}\".format(amount_MN))\n",
    "elif state == \"NY\":\n",
    "    print(\"The total purchase amount with tax is ${}\".format(amount_NY))\n",
    "else:\n",
    "    print(\"Incorrect inputs, try again!\")"
   ]
  },
  {
   "cell_type": "code",
   "execution_count": 68,
   "metadata": {},
   "outputs": [
    {
     "name": "stdout",
     "output_type": "stream",
     "text": [
      "joey tribbiani\n",
      "monica geller\n",
      "chandler bing\n",
      "phoebe buffay\n",
      "['joey_tribbiani', 'monica_geller', 'chandler_bing', 'phoebe_buffay']\n"
     ]
    }
   ],
   "source": [
    "#TODO: Write a for loop that iterates over the names list to create a usernames list. \n",
    "#To create a username for each name, make everything lowercase and replace spaces with underscores\n",
    "\n",
    "# Input\n",
    "names = [\"Joey Tribbiani\", \"Monica Geller\", \"Chandler Bing\", \"Phoebe Buffay\"]\n",
    "usernames = []\n",
    "\n",
    "for i in names:\n",
    "    i = i.lower()\n",
    "    usernames.append(i.replace(\" \", \"_\"))\n",
    "    print (i)\n",
    "    \n",
    "print(usernames)\n"
   ]
  },
  {
   "cell_type": "code",
   "execution_count": 23,
   "metadata": {},
   "outputs": [
    {
     "name": "stdout",
     "output_type": "stream",
     "text": [
      "usernames =  ['joey_tribbiani', 'monica_geller', 'chandler_bing', 'phoebe_buffay']\n"
     ]
    }
   ],
   "source": [
    "#TODO: For the above problem modify the same list names without creating a new list\n",
    "\n",
    "names = [\"Joey Tribbiani\", \"Monica Geller\", \"Chandler Bing\", \"Phoebe Buffay\"]\n",
    "names = [nm.replace(\" \", \"_\") for nm in names]\n",
    "names = [nm.lower() for nm in names]\n",
    "\n",
    "print (\"usernames = \", names)\n",
    "\n",
    "# Expected list \n",
    "#usernames = [\"joey_tribbiani\", \"monica_geller\", \"chandler_bing\", \"phoebe_buffay\"]"
   ]
  },
  {
   "cell_type": "code",
   "execution_count": 9,
   "metadata": {},
   "outputs": [
    {
     "name": "stdout",
     "output_type": "stream",
     "text": [
      "{'great': 2, 'expectations': 1, 'the': 2, 'adventures': 2, 'of': 2, 'sherlock': 1, 'holmes': 1, 'gasby': 1, 'hamlet': 1, 'huckleberry': 1, 'fin': 1}\n"
     ]
    }
   ],
   "source": [
    "#TODO: Create a dictionary with the word count\n",
    "book_title =  ['great', 'expectations','the', 'adventures', 'of', 'sherlock','holmes','the','great','gasby',\n",
    "               'hamlet','adventures','of','huckleberry','fin']\n",
    "word_count = [2, 1, 2, 2, 2, 1, 1, 2, 2, 1, 1, 2, 2, 1, 1]\n",
    "\n",
    "wc = zip(book_title,word_count)\n",
    "#my_dict = {k:v for k, v in wc}\n",
    "#print (my_dict)\n",
    "print(dict(wc))\n",
    "\n",
    "# Expected result\n",
    "#{'great': 2, 'expectations': 1, 'the': 2, 'adventures': 2, 'of': 2, 'sherlock': 1, 'holmes': 1, 'gasby': 1, 'hamlet': 1, 'huckleberry': 1, 'fin': 1}\n",
    "               "
   ]
  },
  {
   "cell_type": "code",
   "execution_count": 8,
   "metadata": {},
   "outputs": [
    {
     "name": "stdout",
     "output_type": "stream",
     "text": [
      "Actor: Jerry Seinfeld     Role: Jerry Seinfeld \n",
      "Actor: Julia Louis-Dreyfus     Role: Elaine Benes \n",
      "Actor: Jason Alexander     Role: George Costanza \n",
      "Actor: Michael Richards     Role: Cosmo Kramer \n",
      "\n",
      "That's All I have!\n"
     ]
    }
   ],
   "source": [
    "#*TODO: Iterate through the dictionary *\n",
    "\n",
    "cast = {\n",
    "           \"Jerry Seinfeld\": \"Jerry Seinfeld\",\n",
    "           \"Julia Louis-Dreyfus\": \"Elaine Benes\",\n",
    "           \"Jason Alexander\": \"George Costanza\",\n",
    "           \"Michael Richards\": \"Cosmo Kramer\"\n",
    "       }\n",
    "\n",
    "actor = cast.keys()\n",
    "role = cast.values()\n",
    "\n",
    "for i in zip(actor,role):\n",
    "    \n",
    "    print(\"Actor: {}     Role: {} \".format(i[0], i[1]))\n",
    "    \n",
    "print(\"\\nThat's All I have!\")   "
   ]
  }
 ],
 "metadata": {
  "kernelspec": {
   "display_name": "Python 3",
   "language": "python",
   "name": "python3"
  },
  "language_info": {
   "codemirror_mode": {
    "name": "ipython",
    "version": 3
   },
   "file_extension": ".py",
   "mimetype": "text/x-python",
   "name": "python",
   "nbconvert_exporter": "python",
   "pygments_lexer": "ipython3",
   "version": "3.7.0"
  }
 },
 "nbformat": 4,
 "nbformat_minor": 2
}
